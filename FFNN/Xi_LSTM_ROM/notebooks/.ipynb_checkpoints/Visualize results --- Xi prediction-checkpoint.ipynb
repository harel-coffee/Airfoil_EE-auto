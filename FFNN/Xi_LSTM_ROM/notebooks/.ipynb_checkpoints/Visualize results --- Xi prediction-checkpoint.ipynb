{
 "cells": [
  {
   "cell_type": "code",
   "execution_count": 1,
   "metadata": {},
   "outputs": [
    {
     "name": "stdout",
     "output_type": "stream",
     "text": [
      "Populating the interactive namespace from numpy and matplotlib\n"
     ]
    }
   ],
   "source": [
    "%pylab inline\n",
    "\n",
    "import numpy as np\n",
    "import tensorflow as tf\n",
    "import subprocess\n",
    "from tqdm import tqdm\n",
    "\n",
    "import sys\n",
    "sys.path.append('../core')\n",
    "sys.path.append('../../Xi_to_q/core')\n",
    "\n",
    "from Xi_gen import Xi_gen\n",
    "from LSTM_ROM import LSTM_ROM\n",
    "from Xi_to_q_net import Xi_to_q_net\n",
    "\n",
    "import os\n",
    "# os.environ[\"CUDA_VISIBLE_DEVICES\"] = \"-1\" # comment to use GPU"
   ]
  },
  {
   "cell_type": "code",
   "execution_count": 2,
   "metadata": {},
   "outputs": [],
   "source": [
    "# Load model for Xi to q without forecast\n",
    "Q = Xi_to_q_net(restart_file='../../Xi_to_q/saved_models/Xi_q_NN_tau0.0.npy')\n",
    "\n",
    "# Load LSTM dynamic model for Xi\n",
    "H = LSTM_ROM(restart_file='../saved_models/Xi_ROM_32.npy')\n",
    "\n",
    "# Load Psi from file to get normalization used by LSTM model\n",
    "Xi = np.load('../../P_to_Xi/dense_Xi_predictions/Xi_32.npy', allow_pickle=True).item()['Xi']\n",
    "Xi_mean = np.mean(Xi, axis=0)\n",
    "Xi_std = np.std(Xi, axis=0)\n",
    "\n",
    "# Set up data generator\n",
    "r = 32\n",
    "n_steps = 350\n",
    "batch_size = 1000\n",
    "m_hist = 70\n",
    "stride = 3\n",
    "\n",
    "t = 0.01*stride*np.arange(n_steps+1)\n",
    "gen = Xi_gen(r, n_steps, batch_size, m_hist, stride, return_q=True)"
   ]
  },
  {
   "cell_type": "code",
   "execution_count": null,
   "metadata": {},
   "outputs": [
    {
     "name": "stderr",
     "output_type": "stream",
     "text": [
      "\r",
      "  0%|          | 0/16 [00:00<?, ?it/s]"
     ]
    }
   ],
   "source": [
    "Error = []\n",
    "Q_Error = []\n",
    "n_batches = gen.test_batches\n",
    "\n",
    "for batch in tqdm(range(n_batches)):\n",
    "\n",
    "    Xi_hist, Xi_forecast, Q_true, batch_inds = gen.next_test(return_inds=True)\n",
    "    Q_error_init = gen.q[batch_inds].reshape(len(batch_inds),1) - Q.network(Xi_hist[:,-1,:]*Xi_std + Xi_mean).numpy()\n",
    "    Xi_est = []\n",
    "    \n",
    "    for step in range(n_steps):\n",
    "        Xi_est.append(tf.expand_dims(H.network(Xi_hist), axis=1))\n",
    "        Xi_hist = tf.concat([Xi_hist[:,1:,:], Xi_est[-1]], axis=1)\n",
    "\n",
    "    Xi_est = tf.concat(Xi_est,axis=1).numpy()\n",
    "    Q_est = np.hstack([Q.network(Xi_est[:,j,:]*Xi_std + Xi_mean).numpy() for j in range(n_steps)])\n",
    "    \n",
    "    Error.append(np.hstack([np.zeros((len(batch_inds),1,32)), Xi_forecast - Xi_est]))\n",
    "    Q_Error.append(np.hstack([Q_error_init, Q_true - Q_est]))\n",
    "    \n",
    "error = np.vstack(Error)\n",
    "q_error = np.vstack(Q_Error)"
   ]
  },
  {
   "cell_type": "code",
   "execution_count": null,
   "metadata": {},
   "outputs": [],
   "source": [
    "plot(np.mean(np.abs(q_error),axis=0))"
   ]
  },
  {
   "cell_type": "code",
   "execution_count": null,
   "metadata": {},
   "outputs": [],
   "source": [
    "mse_ind = np.linalg.norm(error,axis=2)**2 / error.shape[2]\n",
    "mse_batch = np.linalg.norm(error,axis=0)**2 / error.shape[0]"
   ]
  },
  {
   "cell_type": "code",
   "execution_count": null,
   "metadata": {},
   "outputs": [],
   "source": [
    "figure(figsize = (15,3))\n",
    "plot(t,np.mean(mse_ind,axis=0), color='b')\n",
    "fill_between(t,np.mean(mse_ind,axis=0)-np.std(mse_ind,axis=0),\n",
    "     np.mean(mse_ind,axis=0)+np.std(mse_ind,axis=0), color='b', alpha=0.2)\n",
    "xlim([t[0],t[-1]])"
   ]
  },
  {
   "cell_type": "code",
   "execution_count": null,
   "metadata": {},
   "outputs": [],
   "source": [
    "figure(figsize = (15,3))\n",
    "\n",
    "x = np.linspace(0,1.5,50)\n",
    "error_hist = np.stack([np.histogram(mse_ind[:,i],bins=x,density=True)[0] for i in range(n_steps)],axis=1)\n",
    "pcolor(t,(x[1:]+x[:-1])/2, error_hist, shading='auto', \n",
    "       norm=matplotlib.colors.SymLogNorm(linthresh=0.01, linscale=1,\n",
    "                                         vmin=0, vmax=np.max(error_hist)))\n",
    "colorbar()"
   ]
  },
  {
   "cell_type": "code",
   "execution_count": null,
   "metadata": {},
   "outputs": [],
   "source": [
    "x = np.linspace(0,3,50)\n",
    "error_hist = np.stack([np.histogram(np.abs(q_error[:,i]),bins=x,density=True)[0] for i in range(n_steps)],axis=1)\n",
    "figure(figsize = (15,3))\n",
    "pcolor(t,(x[1:]+x[:-1])/2, error_hist, shading='auto', \n",
    "       norm=matplotlib.colors.SymLogNorm(linthresh=0.01, linscale=1,\n",
    "                                         vmin=0, vmax=np.max(error_hist)))\n",
    "colorbar()"
   ]
  },
  {
   "cell_type": "code",
   "execution_count": null,
   "metadata": {},
   "outputs": [],
   "source": []
  },
  {
   "cell_type": "code",
   "execution_count": null,
   "metadata": {},
   "outputs": [],
   "source": []
  },
  {
   "cell_type": "code",
   "execution_count": null,
   "metadata": {},
   "outputs": [],
   "source": []
  }
 ],
 "metadata": {
  "kernelspec": {
   "display_name": "Python 3",
   "language": "python",
   "name": "python3"
  },
  "language_info": {
   "codemirror_mode": {
    "name": "ipython",
    "version": 3
   },
   "file_extension": ".py",
   "mimetype": "text/x-python",
   "name": "python",
   "nbconvert_exporter": "python",
   "pygments_lexer": "ipython3",
   "version": "3.6.12"
  }
 },
 "nbformat": 4,
 "nbformat_minor": 4
}
