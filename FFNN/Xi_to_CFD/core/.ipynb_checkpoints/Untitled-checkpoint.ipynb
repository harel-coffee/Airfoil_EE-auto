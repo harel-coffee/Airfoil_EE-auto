{
 "cells": [
  {
   "cell_type": "code",
   "execution_count": null,
   "id": "3e79311b",
   "metadata": {},
   "outputs": [],
   "source": [
    "from test_NN_restarts import *"
   ]
  },
  {
   "cell_type": "code",
   "execution_count": null,
   "id": "7b0a7d7a",
   "metadata": {},
   "outputs": [],
   "source": [
    "m, g = build_model_and_gen('../../../Re_17500/', 32)"
   ]
  },
  {
   "cell_type": "code",
   "execution_count": null,
   "id": "f47327c6",
   "metadata": {},
   "outputs": [],
   "source": []
  }
 ],
 "metadata": {
  "kernelspec": {
   "display_name": "Python 3",
   "language": "python",
   "name": "python3"
  },
  "language_info": {
   "codemirror_mode": {
    "name": "ipython",
    "version": 3
   },
   "file_extension": ".py",
   "mimetype": "text/x-python",
   "name": "python",
   "nbconvert_exporter": "python",
   "pygments_lexer": "ipython3",
   "version": "3.7.10"
  }
 },
 "nbformat": 4,
 "nbformat_minor": 5
}
